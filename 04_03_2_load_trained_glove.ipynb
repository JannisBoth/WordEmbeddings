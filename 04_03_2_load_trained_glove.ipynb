{
 "cells": [
  {
   "cell_type": "code",
   "execution_count": 1,
   "metadata": {},
   "outputs": [],
   "source": [
    "import os\n",
    "import numpy as np\n",
    "from tensorflow.keras.models import load_model\n",
    "import tensorflow as tf"
   ]
  },
  {
   "cell_type": "code",
   "execution_count": 3,
   "metadata": {},
   "outputs": [],
   "source": [
    "from own.loading import load_reviews_and_rids\n",
    "from own.loading import load_train_test_rid_lists\n",
    "from own.loading import load_RID_and_rating\n",
    "\n",
    "from own.functions import get_matching_reviews\n",
    "\n",
    "from own.vocab import load_vocab\n",
    "\n",
    "from own.classification_preparation import reviews_to_string\n",
    "\n",
    "from own.classification_pretrained import encode_and_pad_seqs\n",
    "from own.classification_glove import create_embedding_layer\n",
    "from own.classification_pretrained import create_model\n",
    "from own.classification_pretrained import calc_metrics"
   ]
  },
  {
   "cell_type": "markdown",
   "metadata": {},
   "source": [
    "# Loading and preparation of Train- and Testset"
   ]
  },
  {
   "cell_type": "code",
   "execution_count": 4,
   "metadata": {},
   "outputs": [],
   "source": [
    "vocab = load_vocab(os.path.join(\"data\",\"vocabs\",\"train_vocab.txt\"))"
   ]
  },
  {
   "cell_type": "code",
   "execution_count": 5,
   "metadata": {},
   "outputs": [
    {
     "name": "stdout",
     "output_type": "stream",
     "text": [
      "File loaded successfully\n",
      "File loaded successfully\n"
     ]
    }
   ],
   "source": [
    "directory = os.path.join(\"data\", \"reviews\")\n",
    "train_path = os.path.join(directory, \"processed_trainset.txt\")\n",
    "test_path = os.path.join(directory, \"processed_testset.txt\")\n",
    "\n",
    "texts_trainset, rids_trainset = load_reviews_and_rids(train_path)\n",
    "texts_testset, rids_testset = load_reviews_and_rids(test_path)"
   ]
  },
  {
   "cell_type": "code",
   "execution_count": 6,
   "metadata": {},
   "outputs": [],
   "source": [
    "train_docs = reviews_to_string(texts_trainset)\n",
    "test_docs = reviews_to_string(texts_testset)"
   ]
  },
  {
   "cell_type": "code",
   "execution_count": 7,
   "metadata": {},
   "outputs": [
    {
     "name": "stdout",
     "output_type": "stream",
     "text": [
      "File loaded successfully\n",
      "Found 1800 of 1800 seached results\n",
      "Found 200 of 200 seached results\n"
     ]
    }
   ],
   "source": [
    "df_rating = load_RID_and_rating()\n",
    "rid_values = np.array(df_rating.RID.values)\n",
    "rating_values = np.array(df_rating.rating.values)\n",
    "\n",
    "ytrain, train_matching_RIDs = np.array(get_matching_reviews(rid_values, rating_values, rids_trainset))\n",
    "ytest, test_matching_RIDs = np.array(get_matching_reviews(rid_values, rating_values, rids_testset))"
   ]
  },
  {
   "cell_type": "markdown",
   "metadata": {},
   "source": [
    "# Tokenizer"
   ]
  },
  {
   "cell_type": "code",
   "execution_count": 8,
   "metadata": {},
   "outputs": [],
   "source": [
    "tokenizer_index, Xtrain, Xtest, vocab_size, max_length = encode_and_pad_seqs(train_docs, test_docs)"
   ]
  },
  {
   "cell_type": "markdown",
   "metadata": {},
   "source": [
    "# Creating the Embedding Layer"
   ]
  },
  {
   "cell_type": "code",
   "execution_count": 9,
   "metadata": {},
   "outputs": [],
   "source": [
    "file_path = os.path.join(\"data\", \"models\", \"own.glove.6B.100d.txt\")\n",
    "embedding_layer = create_embedding_layer(file_path, vocab_size, max_length,tokenizer_index, vocab)"
   ]
  },
  {
   "cell_type": "markdown",
   "metadata": {},
   "source": [
    "# Model"
   ]
  },
  {
   "cell_type": "markdown",
   "metadata": {},
   "source": [
    "## Creating the Model"
   ]
  },
  {
   "cell_type": "code",
   "execution_count": 11,
   "metadata": {},
   "outputs": [
    {
     "name": "stdout",
     "output_type": "stream",
     "text": [
      "Model: \"sequential\"\n",
      "_________________________________________________________________\n",
      "Layer (type)                 Output Shape              Param #   \n",
      "=================================================================\n",
      "embedding (Embedding)        (None, 804, 100)          1301100   \n",
      "_________________________________________________________________\n",
      "conv1d (Conv1D)              (None, 800, 128)          64128     \n",
      "_________________________________________________________________\n",
      "max_pooling1d (MaxPooling1D) (None, 400, 128)          0         \n",
      "_________________________________________________________________\n",
      "flatten (Flatten)            (None, 51200)             0         \n",
      "_________________________________________________________________\n",
      "dense (Dense)                (None, 1)                 51201     \n",
      "=================================================================\n",
      "Total params: 1,416,429\n",
      "Trainable params: 115,329\n",
      "Non-trainable params: 1,301,100\n",
      "_________________________________________________________________\n",
      "None\n"
     ]
    }
   ],
   "source": [
    "# define model\n",
    "model = create_model(embedding_layer)"
   ]
  },
  {
   "cell_type": "markdown",
   "metadata": {},
   "source": [
    "## Fitting the Model to training data"
   ]
  },
  {
   "cell_type": "code",
   "execution_count": 13,
   "metadata": {},
   "outputs": [
    {
     "name": "stdout",
     "output_type": "stream",
     "text": [
      "Train on 1800 samples\n",
      "Epoch 1/15\n",
      "1800/1800 - 5s - loss: 0.0104 - true_positives: 1656.0000 - true_negatives: 141.0000 - false_positives: 1.0000 - false_negatives: 2.0000\n",
      "Epoch 2/15\n",
      "1800/1800 - 5s - loss: 0.0085 - true_positives: 1657.0000 - true_negatives: 142.0000 - false_positives: 0.0000e+00 - false_negatives: 1.0000\n",
      "Epoch 3/15\n",
      "1800/1800 - 5s - loss: 0.0062 - true_positives: 1658.0000 - true_negatives: 141.0000 - false_positives: 1.0000 - false_negatives: 0.0000e+00\n",
      "Epoch 4/15\n",
      "1800/1800 - 5s - loss: 0.0049 - true_positives: 1657.0000 - true_negatives: 142.0000 - false_positives: 0.0000e+00 - false_negatives: 1.0000\n",
      "Epoch 5/15\n",
      "1800/1800 - 5s - loss: 0.0038 - true_positives: 1658.0000 - true_negatives: 142.0000 - false_positives: 0.0000e+00 - false_negatives: 0.0000e+00\n",
      "Epoch 6/15\n",
      "1800/1800 - 5s - loss: 0.0028 - true_positives: 1658.0000 - true_negatives: 142.0000 - false_positives: 0.0000e+00 - false_negatives: 0.0000e+00\n",
      "Epoch 7/15\n",
      "1800/1800 - 5s - loss: 0.0024 - true_positives: 1658.0000 - true_negatives: 142.0000 - false_positives: 0.0000e+00 - false_negatives: 0.0000e+00\n",
      "Epoch 8/15\n",
      "1800/1800 - 4s - loss: 0.0021 - true_positives: 1658.0000 - true_negatives: 142.0000 - false_positives: 0.0000e+00 - false_negatives: 0.0000e+00\n",
      "Epoch 9/15\n",
      "1800/1800 - 5s - loss: 0.0018 - true_positives: 1658.0000 - true_negatives: 142.0000 - false_positives: 0.0000e+00 - false_negatives: 0.0000e+00\n",
      "Epoch 10/15\n",
      "1800/1800 - 5s - loss: 0.0017 - true_positives: 1658.0000 - true_negatives: 142.0000 - false_positives: 0.0000e+00 - false_negatives: 0.0000e+00\n",
      "Epoch 11/15\n",
      "1800/1800 - 5s - loss: 0.0014 - true_positives: 1658.0000 - true_negatives: 142.0000 - false_positives: 0.0000e+00 - false_negatives: 0.0000e+00\n",
      "Epoch 12/15\n",
      "1800/1800 - 5s - loss: 0.0012 - true_positives: 1658.0000 - true_negatives: 142.0000 - false_positives: 0.0000e+00 - false_negatives: 0.0000e+00\n",
      "Epoch 13/15\n",
      "1800/1800 - 4s - loss: 0.0011 - true_positives: 1658.0000 - true_negatives: 142.0000 - false_positives: 0.0000e+00 - false_negatives: 0.0000e+00\n",
      "Epoch 14/15\n",
      "1800/1800 - 5s - loss: 0.0010 - true_positives: 1658.0000 - true_negatives: 142.0000 - false_positives: 0.0000e+00 - false_negatives: 0.0000e+00\n",
      "Epoch 15/15\n",
      "1800/1800 - 5s - loss: 9.3487e-04 - true_positives: 1658.0000 - true_negatives: 142.0000 - false_positives: 0.0000e+00 - false_negatives: 0.0000e+00\n"
     ]
    },
    {
     "data": {
      "text/plain": [
       "<tensorflow.python.keras.callbacks.History at 0x1c5479a1088>"
      ]
     },
     "execution_count": 13,
     "metadata": {},
     "output_type": "execute_result"
    }
   ],
   "source": [
    "# fit network\n",
    "model.fit(Xtrain, ytrain, epochs=15, verbose=2)"
   ]
  },
  {
   "cell_type": "markdown",
   "metadata": {},
   "source": [
    "## Saving and Loading the Model"
   ]
  },
  {
   "cell_type": "code",
   "execution_count": 14,
   "metadata": {},
   "outputs": [],
   "source": [
    "dir = os.path.join(\"data\",\"models\",\"classifier\")\n",
    "model.save(os.path.join(dir,'glove_classifier.h5'))"
   ]
  },
  {
   "cell_type": "markdown",
   "metadata": {},
   "source": [
    "## Evaluating the Model"
   ]
  },
  {
   "cell_type": "code",
   "execution_count": 15,
   "metadata": {},
   "outputs": [],
   "source": [
    "glove_test_loss, glove_test_tp, glove_test_tn, glove_test_fp, glove_test_fn = model.evaluate(Xtest, ytest, verbose = 0)"
   ]
  },
  {
   "cell_type": "code",
   "execution_count": 16,
   "metadata": {},
   "outputs": [
    {
     "name": "stdout",
     "output_type": "stream",
     "text": [
      "glove_test\n",
      " Precision: 0.9242424368858337\n",
      " Recall: 0.9891892075538635\n",
      " Negative Prediction Value: 0.0\n",
      " Specificity: 0.0\n",
      " Error Rate: 0.08500000089406967\n",
      " F1-Score: 0.9556136217568121\n"
     ]
    }
   ],
   "source": [
    "calc_metrics(\"glove_test\", glove_test_tp, glove_test_tn, glove_test_fp, glove_test_fn)"
   ]
  }
 ],
 "metadata": {
  "kernelspec": {
   "display_name": "Python 3",
   "language": "python",
   "name": "python3"
  },
  "language_info": {
   "codemirror_mode": {
    "name": "ipython",
    "version": 3
   },
   "file_extension": ".py",
   "mimetype": "text/x-python",
   "name": "python",
   "nbconvert_exporter": "python",
   "pygments_lexer": "ipython3",
   "version": "3.7.4"
  }
 },
 "nbformat": 4,
 "nbformat_minor": 4
}
