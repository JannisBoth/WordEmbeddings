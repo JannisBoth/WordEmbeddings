{
 "cells": [
  {
   "cell_type": "markdown",
   "metadata": {},
   "source": [
    "Das GloVe Embedding basiert auf nicht Normalisiertem Text. Deshalb muss das GloVe Embedding naürlich ebenfalls, wie die Reviews normalisiert werden, um dies verwenden zu können. Sollte sich durch die Lemmatisierung oder die Stammformbildung das selbe Token aus zwei Wörtern ergeben, wird der Mittelwert der Vektoren als neuer Wert angenommen."
   ]
  },
  {
   "cell_type": "code",
   "execution_count": 1,
   "metadata": {},
   "outputs": [],
   "source": [
    "import os\n",
    "import numpy as np"
   ]
  },
  {
   "cell_type": "code",
   "execution_count": 2,
   "metadata": {},
   "outputs": [],
   "source": [
    "def load_embedding(file_path):\n",
    "    with open (file_path,'r', encoding =\"utf-8\") as f:\n",
    "        lines = f.readlines()\n",
    "        embedding = dict()\n",
    "        for line in lines:\n",
    "            parts = line.split()\n",
    "            embedding[parts[0]] = np.asarray(parts[1:], dtype='float32')\n",
    "        return embedding"
   ]
  },
  {
   "cell_type": "code",
   "execution_count": 3,
   "metadata": {},
   "outputs": [],
   "source": [
    "file_path = os.path.join(\"data\", \"models\", \"glove.6B.100d.txt\")\n",
    "glove_embedding = load_embedding(file_path)"
   ]
  },
  {
   "cell_type": "code",
   "execution_count": 4,
   "metadata": {},
   "outputs": [],
   "source": [
    "from own.processing_classes import LemmaStemmer\n",
    "lemma_stemmer = LemmaStemmer()"
   ]
  },
  {
   "cell_type": "code",
   "execution_count": 5,
   "metadata": {},
   "outputs": [],
   "source": [
    "word_list = glove_embedding.keys()\n",
    "word_list_stemmed = lemma_stemmer.perform(word_list)"
   ]
  },
  {
   "cell_type": "code",
   "execution_count": 6,
   "metadata": {},
   "outputs": [],
   "source": [
    "final_glove_dict = dict()\n",
    "vocab_dict = dict()\n",
    "file_path = os.path.join(\"data\", \"models\", \"edited_glove.txt\")\n",
    "\n",
    "\n",
    "for old, new in zip(word_list, word_list_stemmed):\n",
    "    # check if lemmastemmed word is already in \"vocab\". If -> Mean Else -> Append it\n",
    "    if new in vocab_dict.keys(): \n",
    "        vocab_dict[new] = vocab_dict[new] + 1\n",
    "        count_mean = vocab_dict[new]\n",
    "        final_glove_dict[new] = np.array((count_mean-1)/count_mean*final_glove_dict[new] + 1/count_mean*glove_embedding.get(old))\n",
    "    else:\n",
    "        vocab_dict[new] = 1\n",
    "        final_glove_dict[new] = glove_embedding.get(old)"
   ]
  },
  {
   "cell_type": "code",
   "execution_count": 3,
   "metadata": {},
   "outputs": [],
   "source": [
    "file_path = os.path.join(\"data\", \"models\", \"glove.6B.100d.txt\")\n",
    "glove_embedding = load_embedding(file_path)"
   ]
  },
  {
   "cell_type": "code",
   "execution_count": 17,
   "metadata": {},
   "outputs": [
    {
     "name": "stdout",
     "output_type": "stream",
     "text": [
      "Wall time: 19h 11min 36sof 343508 \n"
     ]
    }
   ],
   "source": [
    "%%time\n",
    "from datetime import datetime\n",
    "\n",
    "data = \"\"\n",
    "i= 1\n",
    "for k, v in final_glove_dict.items():\n",
    "    print(\"Converting item: {} of {} \".format(i, len(final_glove_dict)), end = \"\\r\")\n",
    "    if i == 1:\n",
    "        data = k +\" \"+ \" \".join(v.astype(str))\n",
    "    data = data + \"\\n\" + k +\" \"+ \" \".join(v.astype(str))\n",
    "    i = i + 1"
   ]
  },
  {
   "cell_type": "code",
   "execution_count": 18,
   "metadata": {},
   "outputs": [],
   "source": [
    "file_path = os.path.join(\"data\", \"models\", \"own.glove.6B.100d.txt\")\n",
    "with open(file_path, \"w\", encoding=\"utf-8\") as f:\n",
    "    f.write(data)\n",
    "    #np.savetxt(f, list(final_glove_dict.items())[0][1])"
   ]
  },
  {
   "cell_type": "code",
   "execution_count": 19,
   "metadata": {},
   "outputs": [],
   "source": [
    "file_path = os.path.join(\"data\", \"models\", \"own.glove.6B.100d.txt\")\n",
    "own_glove_embedding = load_embedding(file_path)"
   ]
  },
  {
   "cell_type": "code",
   "execution_count": 20,
   "metadata": {},
   "outputs": [
    {
     "data": {
      "text/plain": [
       "343508"
      ]
     },
     "execution_count": 20,
     "metadata": {},
     "output_type": "execute_result"
    }
   ],
   "source": [
    "len(own_glove_embedding)"
   ]
  }
 ],
 "metadata": {
  "kernelspec": {
   "display_name": "Python 3",
   "language": "python",
   "name": "python3"
  },
  "language_info": {
   "codemirror_mode": {
    "name": "ipython",
    "version": 3
   },
   "file_extension": ".py",
   "mimetype": "text/x-python",
   "name": "python",
   "nbconvert_exporter": "python",
   "pygments_lexer": "ipython3",
   "version": "3.7.4"
  }
 },
 "nbformat": 4,
 "nbformat_minor": 4
}
