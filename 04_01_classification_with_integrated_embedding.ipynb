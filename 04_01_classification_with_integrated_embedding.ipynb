{
 "cells": [
  {
   "cell_type": "markdown",
   "metadata": {},
   "source": [
    "# Integrierted Embedding"
   ]
  },
  {
   "cell_type": "code",
   "execution_count": 1,
   "metadata": {},
   "outputs": [],
   "source": [
    "import os\n",
    "import numpy as np\n",
    "from tensorflow.keras.models import load_model\n",
    "from tensorflow.keras.layers import Embedding\n",
    "import tensorflow as tf"
   ]
  },
  {
   "cell_type": "code",
   "execution_count": 2,
   "metadata": {},
   "outputs": [
    {
     "name": "stderr",
     "output_type": "stream",
     "text": [
      "[nltk_data] Downloading package punkt to\n",
      "[nltk_data]     C:\\Users\\janni\\AppData\\Roaming\\nltk_data...\n",
      "[nltk_data]   Package punkt is already up-to-date!\n"
     ]
    }
   ],
   "source": [
    "from own.loading import load_reviews_and_rids\n",
    "from own.loading import load_train_test_rid_lists\n",
    "from own.loading import load_RID_and_rating\n",
    "\n",
    "from own.functions import get_matching_reviews\n",
    "\n",
    "from own.vocab import load_vocab\n",
    "\n",
    "from own.classification_preparation import create_tokenizer\n",
    "from own.classification_preparation import reviews_to_string\n",
    "from own.classification_preparation import encode_docs\n",
    "from own.classification_preparation import define_model\n",
    "from own.classification_preparation import predict_sentiment\n",
    "from own.classification_pretrained import create_model\n",
    "from own.classification_pretrained import encode_and_pad_seqs\n",
    "from own.classification_pretrained import create_embedding_layer\n",
    "from own.classification_pretrained import create_model\n",
    "from own.classification_pretrained import calc_metrics"
   ]
  },
  {
   "cell_type": "markdown",
   "metadata": {},
   "source": [
    "# Laden und Vorbereiten von Trainings- und Testset\n",
    "Diese Schritte werden folglich bei jedem Modell unternommen."
   ]
  },
  {
   "cell_type": "code",
   "execution_count": 3,
   "metadata": {},
   "outputs": [],
   "source": [
    "vocab = load_vocab(os.path.join(\"data\",\"vocabs\",\"train_vocab.txt\"))\n",
    "#vocab"
   ]
  },
  {
   "cell_type": "code",
   "execution_count": 4,
   "metadata": {},
   "outputs": [
    {
     "name": "stdout",
     "output_type": "stream",
     "text": [
      "File loaded successfully\n",
      "File loaded successfully\n"
     ]
    }
   ],
   "source": [
    "directory = os.path.join(\"data\", \"reviews\")\n",
    "train_path = os.path.join(directory, \"processed_trainset.txt\")\n",
    "test_path = os.path.join(directory, \"processed_testset.txt\")\n",
    "\n",
    "texts_trainset, rids_trainset = load_reviews_and_rids(train_path)\n",
    "texts_testset, rids_testset = load_reviews_and_rids(test_path)"
   ]
  },
  {
   "cell_type": "code",
   "execution_count": 5,
   "metadata": {},
   "outputs": [],
   "source": [
    "train_docs = reviews_to_string(texts_trainset)\n",
    "test_docs = reviews_to_string(texts_testset)"
   ]
  },
  {
   "cell_type": "code",
   "execution_count": 6,
   "metadata": {},
   "outputs": [
    {
     "name": "stdout",
     "output_type": "stream",
     "text": [
      "File loaded successfully\n",
      "Found 1800 of 1800 seached results\n",
      "Found 200 of 200 seached results\n"
     ]
    }
   ],
   "source": [
    "df_rating = load_RID_and_rating()\n",
    "rid_values = np.array(df_rating.RID.values)\n",
    "rating_values = np.array(df_rating.rating.values)\n",
    "\n",
    "ytrain, train_matching_RIDs = np.array(get_matching_reviews(rid_values, rating_values, rids_trainset))\n",
    "ytest, test_matching_RIDs = np.array(get_matching_reviews(rid_values, rating_values, rids_testset))"
   ]
  },
  {
   "cell_type": "markdown",
   "metadata": {},
   "source": [
    "# Tokenizer"
   ]
  },
  {
   "cell_type": "code",
   "execution_count": 7,
   "metadata": {},
   "outputs": [],
   "source": [
    "tokenizer_index, Xtrain, Xtest, vocab_size, max_length = encode_and_pad_seqs(train_docs, test_docs)"
   ]
  },
  {
   "cell_type": "code",
   "execution_count": 8,
   "metadata": {},
   "outputs": [],
   "source": [
    "embedding_layer = Embedding(vocab_size, 100, input_length=max_length)"
   ]
  },
  {
   "cell_type": "code",
   "execution_count": 9,
   "metadata": {},
   "outputs": [
    {
     "name": "stdout",
     "output_type": "stream",
     "text": [
      "Model: \"sequential\"\n",
      "_________________________________________________________________\n",
      "Layer (type)                 Output Shape              Param #   \n",
      "=================================================================\n",
      "embedding (Embedding)        (None, 804, 100)          1301100   \n",
      "_________________________________________________________________\n",
      "conv1d (Conv1D)              (None, 800, 128)          64128     \n",
      "_________________________________________________________________\n",
      "max_pooling1d (MaxPooling1D) (None, 400, 128)          0         \n",
      "_________________________________________________________________\n",
      "flatten (Flatten)            (None, 51200)             0         \n",
      "_________________________________________________________________\n",
      "dense (Dense)                (None, 1)                 51201     \n",
      "=================================================================\n",
      "Total params: 1,416,429\n",
      "Trainable params: 1,416,429\n",
      "Non-trainable params: 0\n",
      "_________________________________________________________________\n",
      "None\n"
     ]
    }
   ],
   "source": [
    "model = create_model(embedding_layer)"
   ]
  },
  {
   "cell_type": "code",
   "execution_count": 10,
   "metadata": {},
   "outputs": [
    {
     "name": "stdout",
     "output_type": "stream",
     "text": [
      "Train on 1800 samples\n",
      "Epoch 1/15\n",
      "1800/1800 - 7s - loss: 0.2944 - true_positives: 1658.0000 - true_negatives: 0.0000e+00 - false_positives: 142.0000 - false_negatives: 0.0000e+00\n",
      "Epoch 2/15\n",
      "1800/1800 - 6s - loss: 0.2064 - true_positives: 1658.0000 - true_negatives: 0.0000e+00 - false_positives: 142.0000 - false_negatives: 0.0000e+00\n",
      "Epoch 3/15\n",
      "1800/1800 - 6s - loss: 0.1055 - true_positives: 1645.0000 - true_negatives: 64.0000 - false_positives: 78.0000 - false_negatives: 13.0000\n",
      "Epoch 4/15\n",
      "1800/1800 - 6s - loss: 0.0332 - true_positives: 1649.0000 - true_negatives: 131.0000 - false_positives: 11.0000 - false_negatives: 9.0000\n",
      "Epoch 5/15\n",
      "1800/1800 - 6s - loss: 0.0229 - true_positives: 1651.0000 - true_negatives: 134.0000 - false_positives: 8.0000 - false_negatives: 7.0000\n",
      "Epoch 6/15\n",
      "1800/1800 - 6s - loss: 0.0104 - true_positives: 1655.0000 - true_negatives: 138.0000 - false_positives: 4.0000 - false_negatives: 3.0000\n",
      "Epoch 7/15\n",
      "1800/1800 - 6s - loss: 0.0065 - true_positives: 1655.0000 - true_negatives: 142.0000 - false_positives: 0.0000e+00 - false_negatives: 3.0000\n",
      "Epoch 8/15\n",
      "1800/1800 - 6s - loss: 0.0069 - true_positives: 1655.0000 - true_negatives: 140.0000 - false_positives: 2.0000 - false_negatives: 3.0000\n",
      "Epoch 9/15\n",
      "1800/1800 - 6s - loss: 0.0057 - true_positives: 1656.0000 - true_negatives: 142.0000 - false_positives: 0.0000e+00 - false_negatives: 2.0000\n",
      "Epoch 10/15\n",
      "1800/1800 - 6s - loss: 0.0035 - true_positives: 1657.0000 - true_negatives: 142.0000 - false_positives: 0.0000e+00 - false_negatives: 1.0000\n",
      "Epoch 11/15\n",
      "1800/1800 - 6s - loss: 0.0032 - true_positives: 1656.0000 - true_negatives: 142.0000 - false_positives: 0.0000e+00 - false_negatives: 2.0000\n",
      "Epoch 12/15\n",
      "1800/1800 - 6s - loss: 0.0049 - true_positives: 1657.0000 - true_negatives: 141.0000 - false_positives: 1.0000 - false_negatives: 1.0000\n",
      "Epoch 13/15\n",
      "1800/1800 - 6s - loss: 0.0058 - true_positives: 1656.0000 - true_negatives: 142.0000 - false_positives: 0.0000e+00 - false_negatives: 2.0000\n",
      "Epoch 14/15\n",
      "1800/1800 - 6s - loss: 0.0038 - true_positives: 1656.0000 - true_negatives: 141.0000 - false_positives: 1.0000 - false_negatives: 2.0000\n",
      "Epoch 15/15\n",
      "1800/1800 - 6s - loss: 0.0026 - true_positives: 1657.0000 - true_negatives: 142.0000 - false_positives: 0.0000e+00 - false_negatives: 1.0000\n",
      "Wall time: 1min 28s\n"
     ]
    }
   ],
   "source": [
    "%%time\n",
    "model.fit(Xtrain, ytrain, epochs=15, verbose=2)\n",
    "dir = os.path.join(\"data\",\"models\",\"classifier\")\n",
    "model.save(os.path.join(dir,\"model_integrated.h5\"))"
   ]
  },
  {
   "cell_type": "code",
   "execution_count": 13,
   "metadata": {},
   "outputs": [],
   "source": [
    "integ_test_loss, integ_test_tp, integ_test_tn, integ_test_fp, integ_test_fn = model.evaluate(Xtest, ytest, verbose = 0)"
   ]
  },
  {
   "cell_type": "code",
   "execution_count": 14,
   "metadata": {},
   "outputs": [
    {
     "name": "stdout",
     "output_type": "stream",
     "text": [
      "integ_test\n",
      " Precision: 0.9424083828926086\n",
      " Recall: 0.9729729890823364\n",
      " Negative Prediction Value: 0.4444444477558136\n",
      " Specificity: 0.2666666805744171\n",
      " Error Rate: 0.07999999821186066\n",
      " F1-Score: 0.9574467754053803\n"
     ]
    }
   ],
   "source": [
    "calc_metrics(\"integ_test\", integ_test_tp, integ_test_tn, integ_test_fp, integ_test_fn)"
   ]
  }
 ],
 "metadata": {
  "kernelspec": {
   "display_name": "Python 3",
   "language": "python",
   "name": "python3"
  },
  "language_info": {
   "codemirror_mode": {
    "name": "ipython",
    "version": 3
   },
   "file_extension": ".py",
   "mimetype": "text/x-python",
   "name": "python",
   "nbconvert_exporter": "python",
   "pygments_lexer": "ipython3",
   "version": "3.7.4"
  }
 },
 "nbformat": 4,
 "nbformat_minor": 4
}
