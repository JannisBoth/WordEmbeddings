{
 "cells": [
  {
   "cell_type": "markdown",
   "metadata": {},
   "source": [
    "# one-hot"
   ]
  },
  {
   "cell_type": "code",
   "execution_count": 1,
   "metadata": {},
   "outputs": [],
   "source": [
    "import os\n",
    "import numpy as np\n",
    "import tensorflow as tf\n",
    "import numpy as np\n",
    "\n",
    "from tensorflow.keras.layers import Embedding"
   ]
  },
  {
   "cell_type": "code",
   "execution_count": 2,
   "metadata": {},
   "outputs": [
    {
     "name": "stderr",
     "output_type": "stream",
     "text": [
      "[nltk_data] Downloading package punkt to\n",
      "[nltk_data]     C:\\Users\\janni\\AppData\\Roaming\\nltk_data...\n",
      "[nltk_data]   Package punkt is already up-to-date!\n"
     ]
    }
   ],
   "source": [
    "from own.loading import load_reviews_and_rids\n",
    "from own.loading import load_train_test_rid_lists\n",
    "from own.loading import load_RID_and_rating\n",
    "\n",
    "from own.functions import get_matching_reviews\n",
    "\n",
    "from own.vocab import load_vocab\n",
    "\n",
    "from own.classification_preparation import create_tokenizer\n",
    "from own.classification_preparation import reviews_to_string\n",
    "from own.classification_preparation import encode_docs\n",
    "from own.classification_preparation import define_model\n",
    "from own.classification_preparation import predict_sentiment\n",
    "from own.classification_pretrained import create_model\n",
    "from own.classification_pretrained import encode_and_pad_seqs\n",
    "from own.classification_pretrained import create_embedding_layer\n",
    "from own.classification_pretrained import create_model\n",
    "from own.classification_pretrained import calc_metrics"
   ]
  },
  {
   "cell_type": "markdown",
   "metadata": {},
   "source": [
    "# Laden und Vorbereiten von Trainings- und Testset\n",
    "Diese Schritte werden folglich bei jedem Modell unternommen."
   ]
  },
  {
   "cell_type": "code",
   "execution_count": 3,
   "metadata": {},
   "outputs": [],
   "source": [
    "vocab = load_vocab(os.path.join(\"data\",\"vocabs\",\"train_vocab.txt\"))"
   ]
  },
  {
   "cell_type": "code",
   "execution_count": 4,
   "metadata": {},
   "outputs": [
    {
     "name": "stdout",
     "output_type": "stream",
     "text": [
      "File loaded successfully\n",
      "File loaded successfully\n"
     ]
    }
   ],
   "source": [
    "directory = os.path.join(\"data\", \"reviews\")\n",
    "train_path = os.path.join(directory, \"processed_trainset.txt\")\n",
    "test_path = os.path.join(directory, \"processed_testset.txt\")\n",
    "\n",
    "texts_trainset, rids_trainset = load_reviews_and_rids(train_path)\n",
    "texts_testset, rids_testset = load_reviews_and_rids(test_path)"
   ]
  },
  {
   "cell_type": "code",
   "execution_count": 5,
   "metadata": {},
   "outputs": [],
   "source": [
    "train_docs = reviews_to_string(texts_trainset)\n",
    "test_docs = reviews_to_string(texts_testset)"
   ]
  },
  {
   "cell_type": "code",
   "execution_count": 6,
   "metadata": {},
   "outputs": [
    {
     "name": "stdout",
     "output_type": "stream",
     "text": [
      "File loaded successfully\n",
      "Found 1800 of 1800 seached results\n",
      "Found 200 of 200 seached results\n"
     ]
    }
   ],
   "source": [
    "df_rating = load_RID_and_rating()\n",
    "rid_values = np.array(df_rating.RID.values)\n",
    "rating_values = np.array(df_rating.rating.values)\n",
    "\n",
    "ytrain, train_matching_RIDs = np.array(get_matching_reviews(rid_values, rating_values, rids_trainset))\n",
    "ytest, test_matching_RIDs = np.array(get_matching_reviews(rid_values, rating_values, rids_testset))"
   ]
  },
  {
   "cell_type": "markdown",
   "metadata": {},
   "source": [
    "# Tokenizer\n",
    "\n",
    "*encode_and_pad_seqs* Wandelt die Sätze in eine Sequenz von Integers um. Hierbei werden alle an die Länge des längsten Reviews angepasst.\n"
   ]
  },
  {
   "cell_type": "code",
   "execution_count": 7,
   "metadata": {},
   "outputs": [],
   "source": [
    "tokenizer_index, Xtrain, Xtest, vocab_size, max_length = encode_and_pad_seqs(train_docs, test_docs)"
   ]
  },
  {
   "cell_type": "code",
   "execution_count": 8,
   "metadata": {},
   "outputs": [],
   "source": [
    "one_hot_encodings = tf.keras.utils.to_categorical(list(tokenizer_index.values()))\n",
    "\n",
    "length = len(one_hot_encodings)+1\n",
    "weight_matrix = np.zeros((length, len(one_hot_encodings[0])))\n",
    "for word, i in tokenizer_index.items():\n",
    "    if word in vocab:\n",
    "        weight_matrix[i] = one_hot_encodings[i]"
   ]
  },
  {
   "cell_type": "markdown",
   "metadata": {},
   "source": [
    "# Klassifikator\n",
    "\n",
    "*create_model* erstellt aus einem übergebenen Embeddings Layer das gesamte Klassifikationsmodell."
   ]
  },
  {
   "cell_type": "code",
   "execution_count": 9,
   "metadata": {},
   "outputs": [],
   "source": [
    "embedding_layer = Embedding(vocab_size, len(one_hot_encodings[0]), weights=[weight_matrix], input_length=max_length, trainable=False)"
   ]
  },
  {
   "cell_type": "code",
   "execution_count": 10,
   "metadata": {},
   "outputs": [
    {
     "name": "stdout",
     "output_type": "stream",
     "text": [
      "Model: \"sequential\"\n",
      "_________________________________________________________________\n",
      "Layer (type)                 Output Shape              Param #   \n",
      "=================================================================\n",
      "embedding (Embedding)        (None, 804, 13011)        169286121 \n",
      "_________________________________________________________________\n",
      "conv1d (Conv1D)              (None, 800, 128)          8327168   \n",
      "_________________________________________________________________\n",
      "max_pooling1d (MaxPooling1D) (None, 400, 128)          0         \n",
      "_________________________________________________________________\n",
      "flatten (Flatten)            (None, 51200)             0         \n",
      "_________________________________________________________________\n",
      "dense (Dense)                (None, 1)                 51201     \n",
      "=================================================================\n",
      "Total params: 177,664,490\n",
      "Trainable params: 8,378,369\n",
      "Non-trainable params: 169,286,121\n",
      "_________________________________________________________________\n",
      "None\n"
     ]
    }
   ],
   "source": [
    "# define model\n",
    "one_hot_model = create_model(embedding_layer)"
   ]
  },
  {
   "cell_type": "markdown",
   "metadata": {},
   "source": [
    "## Fitting the Model to training data"
   ]
  },
  {
   "cell_type": "code",
   "execution_count": null,
   "metadata": {},
   "outputs": [],
   "source": [
    "%%time\n",
    "one_hot_model.fit(Xtrain, ytrain, epochs=15, verbose=2)"
   ]
  },
  {
   "cell_type": "markdown",
   "metadata": {},
   "source": [
    "An dieser Stelle wurde die Arbeit mit One-Hot-Encoding aufgrund der langen Verarbeitungszeit abgebrochen"
   ]
  }
 ],
 "metadata": {
  "kernelspec": {
   "display_name": "Python 3",
   "language": "python",
   "name": "python3"
  },
  "language_info": {
   "codemirror_mode": {
    "name": "ipython",
    "version": 3
   },
   "file_extension": ".py",
   "mimetype": "text/x-python",
   "name": "python",
   "nbconvert_exporter": "python",
   "pygments_lexer": "ipython3",
   "version": "3.7.4"
  }
 },
 "nbformat": 4,
 "nbformat_minor": 4
}
