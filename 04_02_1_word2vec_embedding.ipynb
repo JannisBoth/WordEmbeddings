{
 "cells": [
  {
   "cell_type": "markdown",
   "metadata": {},
   "source": [
    "# word2vec"
   ]
  },
  {
   "cell_type": "code",
   "execution_count": 1,
   "metadata": {},
   "outputs": [],
   "source": [
    "import os\n",
    "import numpy as np\n",
    "from tensorflow.keras.models import load_model\n",
    "import gensim"
   ]
  },
  {
   "cell_type": "code",
   "execution_count": 2,
   "metadata": {},
   "outputs": [
    {
     "name": "stderr",
     "output_type": "stream",
     "text": [
      "[nltk_data] Downloading package punkt to\n",
      "[nltk_data]     C:\\Users\\janni\\AppData\\Roaming\\nltk_data...\n",
      "[nltk_data]   Package punkt is already up-to-date!\n"
     ]
    }
   ],
   "source": [
    "from own.loading import load_reviews_and_rids\n",
    "from own.loading import load_train_test_rid_lists\n",
    "from own.loading import load_RID_and_rating\n",
    "\n",
    "from own.functions import get_matching_reviews\n",
    "\n",
    "from own.vocab import load_vocab\n",
    "\n",
    "from own.classification_preparation import create_tokenizer\n",
    "from own.classification_preparation import reviews_to_string\n",
    "from own.classification_preparation import encode_docs\n",
    "from own.classification_preparation import define_model\n",
    "from own.classification_preparation import predict_sentiment"
   ]
  },
  {
   "cell_type": "markdown",
   "metadata": {},
   "source": [
    "# laden und Aufbereiten der Trainingsset Texte"
   ]
  },
  {
   "cell_type": "code",
   "execution_count": 3,
   "metadata": {},
   "outputs": [
    {
     "name": "stdout",
     "output_type": "stream",
     "text": [
      "File loaded successfully\n"
     ]
    }
   ],
   "source": [
    "file_path = os.path.join(\"data\", \"reviews\", \"processed_trainset.txt\")\n",
    "texts_trainset, rids_trainset = load_reviews_and_rids(file_path)\n",
    "text_strings_trainset = reviews_to_string(texts_trainset)\n",
    "sentence_list = []\n",
    "for reviews in texts_trainset:\n",
    "    for sentence in reviews:\n",
    "        sentence_list.append(sentence.split())"
   ]
  },
  {
   "cell_type": "code",
   "execution_count": 4,
   "metadata": {},
   "outputs": [
    {
     "data": {
      "text/plain": [
       "211"
      ]
     },
     "execution_count": 4,
     "metadata": {},
     "output_type": "execute_result"
    }
   ],
   "source": [
    "max_length = max([len(s) for s in sentence_list])\n",
    "max_length"
   ]
  },
  {
   "cell_type": "markdown",
   "metadata": {},
   "source": [
    "# word2vec embedding"
   ]
  },
  {
   "cell_type": "markdown",
   "metadata": {},
   "source": [
    "## Training"
   ]
  },
  {
   "cell_type": "code",
   "execution_count": 5,
   "metadata": {},
   "outputs": [],
   "source": [
    "w2v_p ={\n",
    "    \"size\": 100,\n",
    "    \"window\" : 5,\n",
    "    \"workers\" : 6,\n",
    "    \"min_count\" : 1,\n",
    "}"
   ]
  },
  {
   "cell_type": "markdown",
   "metadata": {},
   "source": [
    "# CBOW"
   ]
  },
  {
   "cell_type": "code",
   "execution_count": 6,
   "metadata": {},
   "outputs": [
    {
     "name": "stdout",
     "output_type": "stream",
     "text": [
      "Wall time: 3.45 s\n"
     ]
    }
   ],
   "source": [
    "%%time\n",
    "cbow_model = gensim.models.Word2Vec(sentences = sentence_list,\n",
    "                                   size = w2v_p[\"size\"],\n",
    "                                   window = w2v_p[\"window\"],\n",
    "                                   workers = w2v_p[\"workers\"],\n",
    "                                   min_count = w2v_p[\"min_count\"])"
   ]
  },
  {
   "cell_type": "markdown",
   "metadata": {},
   "source": [
    "# Skip Gram"
   ]
  },
  {
   "cell_type": "code",
   "execution_count": 7,
   "metadata": {},
   "outputs": [
    {
     "name": "stdout",
     "output_type": "stream",
     "text": [
      "Wall time: 4.37 s\n"
     ]
    }
   ],
   "source": [
    "%%time\n",
    "skip_model = gensim.models.Word2Vec(sentences = sentence_list,\n",
    "                                   size = w2v_p[\"size\"],\n",
    "                                   window = w2v_p[\"window\"],\n",
    "                                   workers = w2v_p[\"workers\"],\n",
    "                                   min_count = w2v_p[\"min_count\"],\n",
    "                                   sg = 1)"
   ]
  },
  {
   "cell_type": "markdown",
   "metadata": {},
   "source": [
    "# Skip Gram with hs and ns"
   ]
  },
  {
   "cell_type": "code",
   "execution_count": 8,
   "metadata": {},
   "outputs": [
    {
     "name": "stdout",
     "output_type": "stream",
     "text": [
      "Wall time: 6.79 s\n"
     ]
    }
   ],
   "source": [
    "%%time\n",
    "opt_skip_model = gensim.models.Word2Vec(sentences = sentence_list,\n",
    "                                   size = w2v_p[\"size\"],\n",
    "                                   window = w2v_p[\"window\"],\n",
    "                                   workers = w2v_p[\"workers\"],\n",
    "                                   min_count = w2v_p[\"min_count\"],\n",
    "                                   sg = 1,\n",
    "                                   hs = 1,\n",
    "                                   negative = 5,\n",
    "                                   ns_exponent = 0.75)"
   ]
  },
  {
   "cell_type": "code",
   "execution_count": 9,
   "metadata": {},
   "outputs": [
    {
     "name": "stdout",
     "output_type": "stream",
     "text": [
      "Wall time: 9.74 s\n"
     ]
    }
   ],
   "source": [
    "%%time\n",
    "opt_skip_model2 = gensim.models.Word2Vec(sentences = sentence_list,\n",
    "                                   size = w2v_p[\"size\"],\n",
    "                                   window = w2v_p[\"window\"],\n",
    "                                   workers = w2v_p[\"workers\"],\n",
    "                                   min_count = w2v_p[\"min_count\"],\n",
    "                                   sg = 1,\n",
    "                                   hs = 1,\n",
    "                                   negative = 20,\n",
    "                                   ns_exponent = 0.75)"
   ]
  },
  {
   "cell_type": "markdown",
   "metadata": {},
   "source": [
    "# Most similar"
   ]
  },
  {
   "cell_type": "code",
   "execution_count": 10,
   "metadata": {},
   "outputs": [
    {
     "data": {
      "text/plain": [
       "[('consider', 0.9992942214012146),\n",
       " ('opinion', 0.9992905855178833),\n",
       " ('classic', 0.9991680383682251),\n",
       " ('probably', 0.9986184239387512),\n",
       " ('doubt', 0.998162031173706),\n",
       " ('top', 0.9981004595756531),\n",
       " ('make', 0.997472882270813),\n",
       " ('deserve', 0.9970742464065552),\n",
       " ('film', 0.9967523217201233),\n",
       " ('possibly', 0.9966682195663452)]"
      ]
     },
     "execution_count": 10,
     "metadata": {},
     "output_type": "execute_result"
    }
   ],
   "source": [
    "cbow_model.wv.most_similar(\"masterpiece\")"
   ]
  },
  {
   "cell_type": "code",
   "execution_count": 11,
   "metadata": {},
   "outputs": [
    {
     "data": {
      "text/plain": [
       "[('highly', 0.9617670774459839),\n",
       " ('imdb', 0.9536212682723999),\n",
       " ('lik', 0.9493973255157471),\n",
       " ('entertainment', 0.9455989599227905),\n",
       " ('task', 0.9452168941497803),\n",
       " ('definitely', 0.9415445923805237),\n",
       " ('original', 0.9412102699279785),\n",
       " ('timeless', 0.9406763315200806),\n",
       " ('doubt', 0.9400621056556702),\n",
       " ('overrate', 0.9367448687553406)]"
      ]
     },
     "execution_count": 11,
     "metadata": {},
     "output_type": "execute_result"
    }
   ],
   "source": [
    "skip_model.wv.most_similar(\"masterpiece\")"
   ]
  },
  {
   "cell_type": "code",
   "execution_count": 12,
   "metadata": {},
   "outputs": [
    {
     "data": {
      "text/plain": [
       "[('task', 0.805256724357605),\n",
       " ('noirton', 0.8042141199111938),\n",
       " ('classic', 0.7875393629074097),\n",
       " ('lik', 0.7799196839332581),\n",
       " ('milestone', 0.7707539796829224),\n",
       " ('imdb', 0.7617237567901611),\n",
       " ('denouement', 0.7555866837501526),\n",
       " ('said', 0.7492314577102661),\n",
       " ('sergio', 0.7429267168045044),\n",
       " ('critically', 0.7339065074920654)]"
      ]
     },
     "execution_count": 12,
     "metadata": {},
     "output_type": "execute_result"
    }
   ],
   "source": [
    "opt_skip_model.wv.most_similar(\"masterpiece\")"
   ]
  },
  {
   "cell_type": "code",
   "execution_count": 13,
   "metadata": {},
   "outputs": [
    {
     "data": {
      "text/plain": [
       "[('task', 0.8173200488090515),\n",
       " ('landmark', 0.7945455312728882),\n",
       " ('magazine', 0.7925886511802673),\n",
       " ('lik', 0.789878249168396),\n",
       " ('shr', 0.7885706424713135),\n",
       " ('hallmark', 0.7883614897727966),\n",
       " ('currently', 0.7873241901397705),\n",
       " ('milestone', 0.7867751121520996),\n",
       " ('goer', 0.7817956209182739),\n",
       " ('database', 0.7807698845863342)]"
      ]
     },
     "execution_count": 13,
     "metadata": {},
     "output_type": "execute_result"
    }
   ],
   "source": [
    "opt_skip_model2.wv.most_similar(\"masterpiece\")"
   ]
  },
  {
   "cell_type": "markdown",
   "metadata": {},
   "source": [
    "# Addition"
   ]
  },
  {
   "cell_type": "code",
   "execution_count": 14,
   "metadata": {},
   "outputs": [
    {
     "data": {
      "text/plain": [
       "[('simply', 1.068361759185791),\n",
       " ('do', 1.0682424306869507),\n",
       " ('awesome', 1.0682357549667358),\n",
       " ('truly', 1.0682100057601929),\n",
       " ('mention', 1.068135142326355),\n",
       " ('screen', 1.0679516792297363),\n",
       " ('tim', 1.0679147243499756),\n",
       " ('landmark', 1.0678879022598267),\n",
       " ('produce', 1.0678576231002808),\n",
       " ('rightly', 1.0678454637527466)]"
      ]
     },
     "execution_count": 14,
     "metadata": {},
     "output_type": "execute_result"
    }
   ],
   "source": [
    "cbow_model.wv.most_similar_cosmul(positive=[\"woman\", \"king\"], negative = [\"man\"])"
   ]
  },
  {
   "cell_type": "code",
   "execution_count": 15,
   "metadata": {},
   "outputs": [
    {
     "data": {
      "text/plain": [
       "[('vcr', 1.0766996145248413),\n",
       " ('games', 1.0766273736953735),\n",
       " ('sunder', 1.0760356187820435),\n",
       " ('deft', 1.0756664276123047),\n",
       " ('pragmatism', 1.0755804777145386),\n",
       " ('preoccupy', 1.0755269527435303),\n",
       " ('praiseworthy', 1.07542085647583),\n",
       " ('golden', 1.0752919912338257),\n",
       " ('impervious', 1.0750412940979004),\n",
       " ('museum', 1.0748411417007446)]"
      ]
     },
     "execution_count": 15,
     "metadata": {},
     "output_type": "execute_result"
    }
   ],
   "source": [
    "skip_model.wv.most_similar_cosmul(positive=[\"woman\", \"king\"], negative = [\"man\"])"
   ]
  },
  {
   "cell_type": "code",
   "execution_count": 16,
   "metadata": {},
   "outputs": [
    {
     "data": {
      "text/plain": [
       "[('doom', 1.0532506704330444),\n",
       " ('hunt', 1.017717719078064),\n",
       " ('tightness', 1.0053558349609375),\n",
       " ('darling', 1.0034868717193604),\n",
       " ('prominent', 1.0001099109649658),\n",
       " ('premiere', 0.9966214299201965),\n",
       " ('adventurer', 0.9905230402946472),\n",
       " ('professor', 0.9881736636161804),\n",
       " ('doctor', 0.9827157855033875),\n",
       " ('despair', 0.9825230836868286)]"
      ]
     },
     "execution_count": 16,
     "metadata": {},
     "output_type": "execute_result"
    }
   ],
   "source": [
    "opt_skip_model.wv.most_similar_cosmul(positive=[\"woman\", \"king\"], negative = [\"man\"])"
   ]
  },
  {
   "cell_type": "code",
   "execution_count": 17,
   "metadata": {},
   "outputs": [
    {
     "data": {
      "text/plain": [
       "[('hunt', 1.053101897239685),\n",
       " ('globe', 1.0183053016662598),\n",
       " ('prominent', 1.00095796585083),\n",
       " ('doom', 0.9933269023895264),\n",
       " ('adventurer', 0.9850691556930542),\n",
       " ('prophet', 0.983432412147522),\n",
       " ('embark', 0.9824914336204529),\n",
       " ('mystical', 0.9819847345352173),\n",
       " ('margin', 0.9815604090690613),\n",
       " ('hire', 0.9804154634475708)]"
      ]
     },
     "execution_count": 17,
     "metadata": {},
     "output_type": "execute_result"
    }
   ],
   "source": [
    "opt_skip_model2.wv.most_similar_cosmul(positive=[\"woman\", \"king\"], negative = [\"man\"])"
   ]
  },
  {
   "cell_type": "markdown",
   "metadata": {},
   "source": [
    "## Abspeichern der Embeddings"
   ]
  },
  {
   "cell_type": "code",
   "execution_count": 18,
   "metadata": {},
   "outputs": [],
   "source": [
    "file_path = os.path.join(\"data\",\"models\",\"word2vec_embeddings_cbow.txt\")\n",
    "cbow_model.wv.save_word2vec_format(file_path, binary = False)"
   ]
  },
  {
   "cell_type": "code",
   "execution_count": 19,
   "metadata": {},
   "outputs": [],
   "source": [
    "file_path = os.path.join(\"data\",\"models\",\"word2vec_embeddings_skip_model.txt\")\n",
    "skip_model.wv.save_word2vec_format(file_path, binary = False)"
   ]
  },
  {
   "cell_type": "code",
   "execution_count": 20,
   "metadata": {},
   "outputs": [],
   "source": [
    "file_path = os.path.join(\"data\",\"models\",\"word2vec_embeddings_opt_skip_model.txt\")\n",
    "opt_skip_model.wv.save_word2vec_format(file_path, binary = False)"
   ]
  },
  {
   "cell_type": "code",
   "execution_count": 21,
   "metadata": {},
   "outputs": [],
   "source": [
    "file_path = os.path.join(\"data\",\"models\",\"word2vec_embeddings_opt_skip_model2.txt\")\n",
    "opt_skip_model2.wv.save_word2vec_format(file_path, binary = False)"
   ]
  }
 ],
 "metadata": {
  "kernelspec": {
   "display_name": "Python 3",
   "language": "python",
   "name": "python3"
  },
  "language_info": {
   "codemirror_mode": {
    "name": "ipython",
    "version": 3
   },
   "file_extension": ".py",
   "mimetype": "text/x-python",
   "name": "python",
   "nbconvert_exporter": "python",
   "pygments_lexer": "ipython3",
   "version": "3.7.4"
  }
 },
 "nbformat": 4,
 "nbformat_minor": 4
}
