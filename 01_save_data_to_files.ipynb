{
 "cells": [
  {
   "cell_type": "code",
   "execution_count": 1,
   "metadata": {},
   "outputs": [
    {
     "name": "stderr",
     "output_type": "stream",
     "text": [
      "[nltk_data] Error loading punkt: <urlopen error [Errno 11001]\n",
      "[nltk_data]     getaddrinfo failed>\n"
     ]
    }
   ],
   "source": [
    "import os\n",
    "\n",
    "from own.saving import save_reviews_to_file\n",
    "from own.saving import save_RID_and_rating\n",
    "from own.saving import make_dirs\n",
    "\n",
    "from own.loading import load_data_frame\n",
    "from own.loading import load_reviews_and_rids\n",
    "from own.loading import load_RID_and_rating\n",
    "from own.loading import load_train_test_rid_lists\n",
    "\n",
    "from own.functions import stratified_test_train_split"
   ]
  },
  {
   "cell_type": "markdown",
   "metadata": {},
   "source": [
    "# Daten laden\n",
    "*load_data_frame* lädt die csv-Datei mit den Gold-Label Daten."
   ]
  },
  {
   "cell_type": "code",
   "execution_count": 2,
   "metadata": {},
   "outputs": [
    {
     "name": "stdout",
     "output_type": "stream",
     "text": [
      "Data Frame loaded successfully\n"
     ]
    },
    {
     "data": {
      "text/html": [
       "<div>\n",
       "<style scoped>\n",
       "    .dataframe tbody tr th:only-of-type {\n",
       "        vertical-align: middle;\n",
       "    }\n",
       "\n",
       "    .dataframe tbody tr th {\n",
       "        vertical-align: top;\n",
       "    }\n",
       "\n",
       "    .dataframe thead th {\n",
       "        text-align: right;\n",
       "    }\n",
       "</style>\n",
       "<table border=\"1\" class=\"dataframe\">\n",
       "  <thead>\n",
       "    <tr style=\"text-align: right;\">\n",
       "      <th></th>\n",
       "      <th>RID</th>\n",
       "      <th>text</th>\n",
       "      <th>rating</th>\n",
       "    </tr>\n",
       "  </thead>\n",
       "  <tbody>\n",
       "    <tr>\n",
       "      <th>0</th>\n",
       "      <td>1</td>\n",
       "      <td>It doesn't get any better than this.  You can ...</td>\n",
       "      <td>positive</td>\n",
       "    </tr>\n",
       "    <tr>\n",
       "      <th>1</th>\n",
       "      <td>4</td>\n",
       "      <td>Cecil B. DeMille was a motion-picture producer...</td>\n",
       "      <td>positive</td>\n",
       "    </tr>\n",
       "    <tr>\n",
       "      <th>2</th>\n",
       "      <td>5</td>\n",
       "      <td>\"The Ten Commandments\" is a milestone film. Fo...</td>\n",
       "      <td>positive</td>\n",
       "    </tr>\n",
       "    <tr>\n",
       "      <th>3</th>\n",
       "      <td>6</td>\n",
       "      <td>To mount an epic movie based on the story of M...</td>\n",
       "      <td>positive</td>\n",
       "    </tr>\n",
       "    <tr>\n",
       "      <th>4</th>\n",
       "      <td>7</td>\n",
       "      <td>What a fantastic movie to climax DeMille's ill...</td>\n",
       "      <td>positive</td>\n",
       "    </tr>\n",
       "    <tr>\n",
       "      <th>5</th>\n",
       "      <td>8</td>\n",
       "      <td>When I was 10 years old I saw The Ten Commandm...</td>\n",
       "      <td>positive</td>\n",
       "    </tr>\n",
       "    <tr>\n",
       "      <th>6</th>\n",
       "      <td>10</td>\n",
       "      <td>When will Paramount Pictures re-release the 19...</td>\n",
       "      <td>positive</td>\n",
       "    </tr>\n",
       "    <tr>\n",
       "      <th>7</th>\n",
       "      <td>18</td>\n",
       "      <td>A movie with a biblical story. A movie with bi...</td>\n",
       "      <td>positive</td>\n",
       "    </tr>\n",
       "    <tr>\n",
       "      <th>8</th>\n",
       "      <td>20</td>\n",
       "      <td>This movie is so funny, I don't know where to ...</td>\n",
       "      <td>positive</td>\n",
       "    </tr>\n",
       "    <tr>\n",
       "      <th>9</th>\n",
       "      <td>25</td>\n",
       "      <td>Meaning that, while I am supposed to cheer on ...</td>\n",
       "      <td>positive</td>\n",
       "    </tr>\n",
       "  </tbody>\n",
       "</table>\n",
       "</div>"
      ],
      "text/plain": [
       "   RID                                               text    rating\n",
       "0    1  It doesn't get any better than this.  You can ...  positive\n",
       "1    4  Cecil B. DeMille was a motion-picture producer...  positive\n",
       "2    5  \"The Ten Commandments\" is a milestone film. Fo...  positive\n",
       "3    6  To mount an epic movie based on the story of M...  positive\n",
       "4    7  What a fantastic movie to climax DeMille's ill...  positive\n",
       "5    8  When I was 10 years old I saw The Ten Commandm...  positive\n",
       "6   10  When will Paramount Pictures re-release the 19...  positive\n",
       "7   18  A movie with a biblical story. A movie with bi...  positive\n",
       "8   20  This movie is so funny, I don't know where to ...  positive\n",
       "9   25  Meaning that, while I am supposed to cheer on ...  positive"
      ]
     },
     "execution_count": 2,
     "metadata": {},
     "output_type": "execute_result"
    }
   ],
   "source": [
    "df = load_data_frame(\"rating_data.csv\")\n",
    "df.head(10)"
   ]
  },
  {
   "cell_type": "markdown",
   "metadata": {},
   "source": [
    "# Reviews mit RIDs abspeichern\n",
    "\n",
    "*save_reviews_to_file* wendet den Satz Tokenizer an und speichert folglich alle Reviews in Sätze unterteilt ab. Diese werden alle in einer Datei abgespeichert und durch das Pattern \"Here_starts_the_review + RID\" getrennt. Hierfür wird ein eigener Ordner (data\\reviews) angelegt."
   ]
  },
  {
   "cell_type": "code",
   "execution_count": 3,
   "metadata": {},
   "outputs": [
    {
     "name": "stdout",
     "output_type": "stream",
     "text": [
      "Directory  data\\reviews  already exists\n",
      "File saved successfully\n",
      "Wall time: 1.25 s\n"
     ]
    }
   ],
   "source": [
    "%%time\n",
    "save_reviews_to_file(df.RID.values, df.text.values,  file_name = \"plain_reviews.txt\")"
   ]
  },
  {
   "cell_type": "markdown",
   "metadata": {},
   "source": [
    "# RIDs mit binärem Rating abspeichern\n",
    "\n",
    "*save_RID_and_rating* wandelt die bisherigen Label (\"positive\"/\"negative\") in (1/0) um und speichert die RIDs mit den binären Labeln in einer csv-Datei ab. Hierfür wird ein eigener Ordner (data\\rating) angelegt."
   ]
  },
  {
   "cell_type": "markdown",
   "metadata": {},
   "source": [
    "### Save"
   ]
  },
  {
   "cell_type": "code",
   "execution_count": 4,
   "metadata": {},
   "outputs": [
    {
     "name": "stdout",
     "output_type": "stream",
     "text": [
      "Directory  data\\rating  successfully created \n",
      "File saved successfully\n",
      "Wall time: 17 ms\n"
     ]
    }
   ],
   "source": [
    "%%time\n",
    "save_RID_and_rating(df.RID.values, df.rating.values, file_name = \"rid_ratings.csv\")"
   ]
  },
  {
   "cell_type": "markdown",
   "metadata": {},
   "source": [
    "# Train- Testset Split\n",
    "*load_RID_and_rating* Lädt die RIDs und das binäre Rating erneut in einen pandas.DataFrame.\n",
    "\n",
    "*stratified_test_train_split* zieht jeweils den Anteil des Testsets aus den positiven und negativen Reviews als Stichprobe. Weiterführend werden die RIDs in einzelnen txt Dateien abgespeichert."
   ]
  },
  {
   "cell_type": "code",
   "execution_count": 7,
   "metadata": {},
   "outputs": [
    {
     "name": "stdout",
     "output_type": "stream",
     "text": [
      "File loaded successfully\n"
     ]
    }
   ],
   "source": [
    "rating_df = load_RID_and_rating()"
   ]
  },
  {
   "cell_type": "code",
   "execution_count": 8,
   "metadata": {},
   "outputs": [
    {
     "name": "stdout",
     "output_type": "stream",
     "text": [
      "total reviews: 2000\n",
      " positives: 1843\n",
      " negatives: 157\n",
      "\n",
      "test_ratio: 0.1 \n",
      " Test Size Positives: 185 \n",
      " Test Size Negatives: 15 \n",
      " Total Testset Size: 200 -> 10.0%\n",
      "Directory  data\\sets  successfully created \n",
      "Saved 1800 RIDs for the Trainset successfully\n",
      "Saved 200 RIDs for the Testset successfully\n"
     ]
    }
   ],
   "source": [
    "trainset, testset = stratified_test_train_split(rating_df.RID.values, rating_df.rating.values, test_ratio = 0.1)"
   ]
  }
 ],
 "metadata": {
  "kernelspec": {
   "display_name": "Python 3",
   "language": "python",
   "name": "python3"
  },
  "language_info": {
   "codemirror_mode": {
    "name": "ipython",
    "version": 3
   },
   "file_extension": ".py",
   "mimetype": "text/x-python",
   "name": "python",
   "nbconvert_exporter": "python",
   "pygments_lexer": "ipython3",
   "version": "3.7.4"
  }
 },
 "nbformat": 4,
 "nbformat_minor": 4
}
