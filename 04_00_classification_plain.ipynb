{
 "cells": [
  {
   "cell_type": "markdown",
   "metadata": {},
   "source": [
    "# Einfaches Integer Embedding"
   ]
  },
  {
   "cell_type": "code",
   "execution_count": 9,
   "metadata": {},
   "outputs": [],
   "source": [
    "import os\n",
    "import numpy as np\n",
    "from tensorflow.keras.models import load_model\n",
    "from tensorflow.keras.layers import Embedding\n",
    "from tensorflow.keras.models import Sequential\n",
    "from tensorflow.keras.layers import Dense\n",
    "\n",
    "import tensorflow as tf"
   ]
  },
  {
   "cell_type": "code",
   "execution_count": 18,
   "metadata": {},
   "outputs": [],
   "source": [
    "from own.loading import load_reviews_and_rids\n",
    "from own.loading import load_train_test_rid_lists\n",
    "from own.loading import load_RID_and_rating\n",
    "\n",
    "from own.functions import get_matching_reviews\n",
    "from own.saving import make_dirs\n",
    "\n",
    "from own.vocab import load_vocab\n",
    "\n",
    "from own.classification_preparation import create_tokenizer\n",
    "from own.classification_preparation import reviews_to_string\n",
    "from own.classification_preparation import encode_docs\n",
    "from own.classification_preparation import define_model\n",
    "from own.classification_preparation import predict_sentiment\n",
    "from own.classification_pretrained import create_model\n",
    "from own.classification_pretrained import encode_and_pad_seqs\n",
    "from own.classification_pretrained import create_embedding_layer\n",
    "from own.classification_pretrained import create_model\n",
    "from own.classification_pretrained import calc_metrics\n",
    "from own.classification_pretrained import create_model_sin_embedding"
   ]
  },
  {
   "cell_type": "markdown",
   "metadata": {},
   "source": [
    "# Loading and preparation of Train- and Testset"
   ]
  },
  {
   "cell_type": "code",
   "execution_count": 4,
   "metadata": {},
   "outputs": [],
   "source": [
    "vocab = load_vocab(os.path.join(\"data\",\"vocabs\",\"train_vocab.txt\"))\n",
    "#vocab"
   ]
  },
  {
   "cell_type": "code",
   "execution_count": 5,
   "metadata": {},
   "outputs": [
    {
     "name": "stdout",
     "output_type": "stream",
     "text": [
      "File loaded successfully\n",
      "File loaded successfully\n"
     ]
    }
   ],
   "source": [
    "directory = os.path.join(\"data\", \"reviews\")\n",
    "train_path = os.path.join(directory, \"processed_trainset.txt\")\n",
    "test_path = os.path.join(directory, \"processed_testset.txt\")\n",
    "\n",
    "texts_trainset, rids_trainset = load_reviews_and_rids(train_path)\n",
    "texts_testset, rids_testset = load_reviews_and_rids(test_path)"
   ]
  },
  {
   "cell_type": "code",
   "execution_count": 6,
   "metadata": {},
   "outputs": [],
   "source": [
    "train_docs = reviews_to_string(texts_trainset)\n",
    "test_docs = reviews_to_string(texts_testset)"
   ]
  },
  {
   "cell_type": "code",
   "execution_count": 7,
   "metadata": {},
   "outputs": [
    {
     "name": "stdout",
     "output_type": "stream",
     "text": [
      "File loaded successfully\n",
      "Found 1800 of 1800 seached results\n",
      "Found 200 of 200 seached results\n"
     ]
    }
   ],
   "source": [
    "df_rating = load_RID_and_rating()\n",
    "rid_values = np.array(df_rating.RID.values)\n",
    "rating_values = np.array(df_rating.rating.values)\n",
    "\n",
    "ytrain, train_matching_RIDs = np.array(get_matching_reviews(rid_values, rating_values, rids_trainset))\n",
    "ytest, test_matching_RIDs = np.array(get_matching_reviews(rid_values, rating_values, rids_testset))"
   ]
  },
  {
   "cell_type": "markdown",
   "metadata": {},
   "source": [
    "# Tokenizer"
   ]
  },
  {
   "cell_type": "code",
   "execution_count": 11,
   "metadata": {},
   "outputs": [],
   "source": [
    "tokenizer_index, Xtrain, Xtest, vocab_size, max_length = encode_and_pad_seqs(train_docs, test_docs)"
   ]
  },
  {
   "cell_type": "markdown",
   "metadata": {},
   "source": [
    "# Klassifikator"
   ]
  },
  {
   "cell_type": "code",
   "execution_count": 12,
   "metadata": {},
   "outputs": [],
   "source": [
    "model = Sequential()\n",
    "model.add(Dense(max_length, input_dim=max_length, activation='relu'))\n",
    "model.add(Dense(1,activation=\"sigmoid\"))\n",
    "\n",
    "model.compile(loss=\"binary_crossentropy\",\n",
    "              optimizer=\"adam\",\n",
    "              metrics=[tf.keras.metrics.TruePositives(),tf.keras.metrics.TrueNegatives(), tf.keras.metrics.FalsePositives(), tf.keras.metrics.FalseNegatives()])"
   ]
  },
  {
   "cell_type": "code",
   "execution_count": 14,
   "metadata": {},
   "outputs": [
    {
     "name": "stdout",
     "output_type": "stream",
     "text": [
      "Train on 1800 samples\n",
      "Epoch 1/15\n",
      "1800/1800 - 1s - loss: 136.7999 - true_positives: 1476.0000 - true_negatives: 18.0000 - false_positives: 124.0000 - false_negatives: 182.0000\n",
      "Epoch 2/15\n",
      "1800/1800 - 0s - loss: 36.6438 - true_positives: 1540.0000 - true_negatives: 60.0000 - false_positives: 82.0000 - false_negatives: 118.0000\n",
      "Epoch 3/15\n",
      "1800/1800 - 0s - loss: 17.5447 - true_positives: 1575.0000 - true_negatives: 79.0000 - false_positives: 63.0000 - false_negatives: 83.0000\n",
      "Epoch 4/15\n",
      "1800/1800 - 0s - loss: 7.6425 - true_positives: 1588.0000 - true_negatives: 101.0000 - false_positives: 41.0000 - false_negatives: 70.0000\n",
      "Epoch 5/15\n",
      "1800/1800 - 0s - loss: 3.6493 - true_positives: 1614.0000 - true_negatives: 110.0000 - false_positives: 32.0000 - false_negatives: 44.0000\n",
      "Epoch 6/15\n",
      "1800/1800 - 0s - loss: 3.8836 - true_positives: 1603.0000 - true_negatives: 110.0000 - false_positives: 32.0000 - false_negatives: 55.0000\n",
      "Epoch 7/15\n",
      "1800/1800 - 0s - loss: 2.7619 - true_positives: 1616.0000 - true_negatives: 116.0000 - false_positives: 26.0000 - false_negatives: 42.0000\n",
      "Epoch 8/15\n",
      "1800/1800 - 0s - loss: 4.1677 - true_positives: 1618.0000 - true_negatives: 113.0000 - false_positives: 29.0000 - false_negatives: 40.0000\n",
      "Epoch 9/15\n",
      "1800/1800 - 0s - loss: 5.3106 - true_positives: 1606.0000 - true_negatives: 117.0000 - false_positives: 25.0000 - false_negatives: 52.0000\n",
      "Epoch 10/15\n",
      "1800/1800 - 0s - loss: 11.1489 - true_positives: 1610.0000 - true_negatives: 102.0000 - false_positives: 40.0000 - false_negatives: 48.0000\n",
      "Epoch 11/15\n",
      "1800/1800 - 0s - loss: 8.7789 - true_positives: 1601.0000 - true_negatives: 114.0000 - false_positives: 28.0000 - false_negatives: 57.0000\n",
      "Epoch 12/15\n",
      "1800/1800 - 0s - loss: 2.3391 - true_positives: 1609.0000 - true_negatives: 123.0000 - false_positives: 19.0000 - false_negatives: 49.0000\n",
      "Epoch 13/15\n",
      "1800/1800 - 0s - loss: 3.5175 - true_positives: 1615.0000 - true_negatives: 110.0000 - false_positives: 32.0000 - false_negatives: 43.0000\n",
      "Epoch 14/15\n",
      "1800/1800 - 0s - loss: 2.4005 - true_positives: 1629.0000 - true_negatives: 121.0000 - false_positives: 21.0000 - false_negatives: 29.0000\n",
      "Epoch 15/15\n",
      "1800/1800 - 0s - loss: 2.4582 - true_positives: 1615.0000 - true_negatives: 125.0000 - false_positives: 17.0000 - false_negatives: 43.0000\n",
      "Wall time: 4.98 s\n"
     ]
    }
   ],
   "source": [
    "%%time\n",
    "model.fit(Xtrain, ytrain, epochs=15, verbose=2)"
   ]
  },
  {
   "cell_type": "code",
   "execution_count": 20,
   "metadata": {},
   "outputs": [
    {
     "name": "stdout",
     "output_type": "stream",
     "text": [
      "Directory  data\\models\\classifier  successfully created \n"
     ]
    }
   ],
   "source": [
    "dir = os.path.join(\"data\",\"models\",\"classifier\")\n",
    "make_dirs(dir)\n",
    "model.save(os.path.join(dir,\"model_plain_int.h5\"))"
   ]
  },
  {
   "cell_type": "code",
   "execution_count": 15,
   "metadata": {},
   "outputs": [],
   "source": [
    "integ_test_loss, integ_test_tp, integ_test_tn, integ_test_fp, integ_test_fn = model.evaluate(Xtest, ytest, verbose = 0)"
   ]
  },
  {
   "cell_type": "code",
   "execution_count": 16,
   "metadata": {},
   "outputs": [
    {
     "name": "stdout",
     "output_type": "stream",
     "text": [
      "integ_test\n",
      " Precision: 0.929729700088501\n",
      " Recall: 0.929729700088501\n",
      " Negative Prediction Value: 0.13333334028720856\n",
      " Specificity: 0.13333334028720856\n",
      " Error Rate: 0.12999999523162842\n",
      " F1-Score: 0.929729670125083\n"
     ]
    }
   ],
   "source": [
    "calc_metrics(\"integ_test\", integ_test_tp, integ_test_tn, integ_test_fp, integ_test_fn)"
   ]
  }
 ],
 "metadata": {
  "kernelspec": {
   "display_name": "Python 3",
   "language": "python",
   "name": "python3"
  },
  "language_info": {
   "codemirror_mode": {
    "name": "ipython",
    "version": 3
   },
   "file_extension": ".py",
   "mimetype": "text/x-python",
   "name": "python",
   "nbconvert_exporter": "python",
   "pygments_lexer": "ipython3",
   "version": "3.7.4"
  }
 },
 "nbformat": 4,
 "nbformat_minor": 4
}
